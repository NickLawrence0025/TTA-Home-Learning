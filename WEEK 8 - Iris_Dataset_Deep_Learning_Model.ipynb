{
  "nbformat": 4,
  "nbformat_minor": 0,
  "metadata": {
    "colab": {
      "name": "Iris Dataset - Deep Learning Model",
      "provenance": [],
      "authorship_tag": "ABX9TyMCT4vUCwgRhewvX/rkJegS",
      "include_colab_link": true
    },
    "kernelspec": {
      "name": "python3",
      "display_name": "Python 3"
    },
    "language_info": {
      "name": "python"
    }
  },
  "cells": [
    {
      "cell_type": "markdown",
      "metadata": {
        "id": "view-in-github",
        "colab_type": "text"
      },
      "source": [
        "<a href=\"https://colab.research.google.com/github/NickLawrence0025/TTA-Home-Learning/blob/main/Iris_Dataset_Deep_Learning_Model.ipynb\" target=\"_parent\"><img src=\"https://colab.research.google.com/assets/colab-badge.svg\" alt=\"Open In Colab\"/></a>"
      ]
    },
    {
      "cell_type": "code",
      "execution_count": 27,
      "metadata": {
        "id": "r0Wa3IH9ndZw"
      },
      "outputs": [],
      "source": [
        "import tensorflow as tf\n",
        "from tensorflow.keras import layers\n",
        "import pandas as pd\n",
        "import numpy as np\n",
        "from tensorflow.keras import datasets, layers, models\n",
        "from tensorflow.keras.utils import to_categorical"
      ]
    },
    {
      "cell_type": "markdown",
      "source": [
        "Load the data:"
      ],
      "metadata": {
        "id": "iqDAW24moK4M"
      }
    },
    {
      "cell_type": "code",
      "source": [
        "df = pd.read_csv('Iris.csv')\n",
        "df.head()"
      ],
      "metadata": {
        "colab": {
          "base_uri": "https://localhost:8080/",
          "height": 206
        },
        "id": "azAoOfAZnoLb",
        "outputId": "b3e1486f-89f5-4729-9145-5d91b663fc1f"
      },
      "execution_count": 28,
      "outputs": [
        {
          "output_type": "execute_result",
          "data": {
            "text/plain": [
              "   Id  SepalLengthCm  SepalWidthCm  PetalLengthCm  PetalWidthCm      Species\n",
              "0   1            5.1           3.5            1.4           0.2  Iris-setosa\n",
              "1   2            4.9           3.0            1.4           0.2  Iris-setosa\n",
              "2   3            4.7           3.2            1.3           0.2  Iris-setosa\n",
              "3   4            4.6           3.1            1.5           0.2  Iris-setosa\n",
              "4   5            5.0           3.6            1.4           0.2  Iris-setosa"
            ],
            "text/html": [
              "\n",
              "  <div id=\"df-7687e19a-17b6-4de4-abbd-dc6ebbc0fa73\">\n",
              "    <div class=\"colab-df-container\">\n",
              "      <div>\n",
              "<style scoped>\n",
              "    .dataframe tbody tr th:only-of-type {\n",
              "        vertical-align: middle;\n",
              "    }\n",
              "\n",
              "    .dataframe tbody tr th {\n",
              "        vertical-align: top;\n",
              "    }\n",
              "\n",
              "    .dataframe thead th {\n",
              "        text-align: right;\n",
              "    }\n",
              "</style>\n",
              "<table border=\"1\" class=\"dataframe\">\n",
              "  <thead>\n",
              "    <tr style=\"text-align: right;\">\n",
              "      <th></th>\n",
              "      <th>Id</th>\n",
              "      <th>SepalLengthCm</th>\n",
              "      <th>SepalWidthCm</th>\n",
              "      <th>PetalLengthCm</th>\n",
              "      <th>PetalWidthCm</th>\n",
              "      <th>Species</th>\n",
              "    </tr>\n",
              "  </thead>\n",
              "  <tbody>\n",
              "    <tr>\n",
              "      <th>0</th>\n",
              "      <td>1</td>\n",
              "      <td>5.1</td>\n",
              "      <td>3.5</td>\n",
              "      <td>1.4</td>\n",
              "      <td>0.2</td>\n",
              "      <td>Iris-setosa</td>\n",
              "    </tr>\n",
              "    <tr>\n",
              "      <th>1</th>\n",
              "      <td>2</td>\n",
              "      <td>4.9</td>\n",
              "      <td>3.0</td>\n",
              "      <td>1.4</td>\n",
              "      <td>0.2</td>\n",
              "      <td>Iris-setosa</td>\n",
              "    </tr>\n",
              "    <tr>\n",
              "      <th>2</th>\n",
              "      <td>3</td>\n",
              "      <td>4.7</td>\n",
              "      <td>3.2</td>\n",
              "      <td>1.3</td>\n",
              "      <td>0.2</td>\n",
              "      <td>Iris-setosa</td>\n",
              "    </tr>\n",
              "    <tr>\n",
              "      <th>3</th>\n",
              "      <td>4</td>\n",
              "      <td>4.6</td>\n",
              "      <td>3.1</td>\n",
              "      <td>1.5</td>\n",
              "      <td>0.2</td>\n",
              "      <td>Iris-setosa</td>\n",
              "    </tr>\n",
              "    <tr>\n",
              "      <th>4</th>\n",
              "      <td>5</td>\n",
              "      <td>5.0</td>\n",
              "      <td>3.6</td>\n",
              "      <td>1.4</td>\n",
              "      <td>0.2</td>\n",
              "      <td>Iris-setosa</td>\n",
              "    </tr>\n",
              "  </tbody>\n",
              "</table>\n",
              "</div>\n",
              "      <button class=\"colab-df-convert\" onclick=\"convertToInteractive('df-7687e19a-17b6-4de4-abbd-dc6ebbc0fa73')\"\n",
              "              title=\"Convert this dataframe to an interactive table.\"\n",
              "              style=\"display:none;\">\n",
              "        \n",
              "  <svg xmlns=\"http://www.w3.org/2000/svg\" height=\"24px\"viewBox=\"0 0 24 24\"\n",
              "       width=\"24px\">\n",
              "    <path d=\"M0 0h24v24H0V0z\" fill=\"none\"/>\n",
              "    <path d=\"M18.56 5.44l.94 2.06.94-2.06 2.06-.94-2.06-.94-.94-2.06-.94 2.06-2.06.94zm-11 1L8.5 8.5l.94-2.06 2.06-.94-2.06-.94L8.5 2.5l-.94 2.06-2.06.94zm10 10l.94 2.06.94-2.06 2.06-.94-2.06-.94-.94-2.06-.94 2.06-2.06.94z\"/><path d=\"M17.41 7.96l-1.37-1.37c-.4-.4-.92-.59-1.43-.59-.52 0-1.04.2-1.43.59L10.3 9.45l-7.72 7.72c-.78.78-.78 2.05 0 2.83L4 21.41c.39.39.9.59 1.41.59.51 0 1.02-.2 1.41-.59l7.78-7.78 2.81-2.81c.8-.78.8-2.07 0-2.86zM5.41 20L4 18.59l7.72-7.72 1.47 1.35L5.41 20z\"/>\n",
              "  </svg>\n",
              "      </button>\n",
              "      \n",
              "  <style>\n",
              "    .colab-df-container {\n",
              "      display:flex;\n",
              "      flex-wrap:wrap;\n",
              "      gap: 12px;\n",
              "    }\n",
              "\n",
              "    .colab-df-convert {\n",
              "      background-color: #E8F0FE;\n",
              "      border: none;\n",
              "      border-radius: 50%;\n",
              "      cursor: pointer;\n",
              "      display: none;\n",
              "      fill: #1967D2;\n",
              "      height: 32px;\n",
              "      padding: 0 0 0 0;\n",
              "      width: 32px;\n",
              "    }\n",
              "\n",
              "    .colab-df-convert:hover {\n",
              "      background-color: #E2EBFA;\n",
              "      box-shadow: 0px 1px 2px rgba(60, 64, 67, 0.3), 0px 1px 3px 1px rgba(60, 64, 67, 0.15);\n",
              "      fill: #174EA6;\n",
              "    }\n",
              "\n",
              "    [theme=dark] .colab-df-convert {\n",
              "      background-color: #3B4455;\n",
              "      fill: #D2E3FC;\n",
              "    }\n",
              "\n",
              "    [theme=dark] .colab-df-convert:hover {\n",
              "      background-color: #434B5C;\n",
              "      box-shadow: 0px 1px 3px 1px rgba(0, 0, 0, 0.15);\n",
              "      filter: drop-shadow(0px 1px 2px rgba(0, 0, 0, 0.3));\n",
              "      fill: #FFFFFF;\n",
              "    }\n",
              "  </style>\n",
              "\n",
              "      <script>\n",
              "        const buttonEl =\n",
              "          document.querySelector('#df-7687e19a-17b6-4de4-abbd-dc6ebbc0fa73 button.colab-df-convert');\n",
              "        buttonEl.style.display =\n",
              "          google.colab.kernel.accessAllowed ? 'block' : 'none';\n",
              "\n",
              "        async function convertToInteractive(key) {\n",
              "          const element = document.querySelector('#df-7687e19a-17b6-4de4-abbd-dc6ebbc0fa73');\n",
              "          const dataTable =\n",
              "            await google.colab.kernel.invokeFunction('convertToInteractive',\n",
              "                                                     [key], {});\n",
              "          if (!dataTable) return;\n",
              "\n",
              "          const docLinkHtml = 'Like what you see? Visit the ' +\n",
              "            '<a target=\"_blank\" href=https://colab.research.google.com/notebooks/data_table.ipynb>data table notebook</a>'\n",
              "            + ' to learn more about interactive tables.';\n",
              "          element.innerHTML = '';\n",
              "          dataTable['output_type'] = 'display_data';\n",
              "          await google.colab.output.renderOutput(dataTable, element);\n",
              "          const docLink = document.createElement('div');\n",
              "          docLink.innerHTML = docLinkHtml;\n",
              "          element.appendChild(docLink);\n",
              "        }\n",
              "      </script>\n",
              "    </div>\n",
              "  </div>\n",
              "  "
            ]
          },
          "metadata": {},
          "execution_count": 28
        }
      ]
    },
    {
      "cell_type": "markdown",
      "source": [
        "Split the data into x and y:"
      ],
      "metadata": {
        "id": "gtcglXfFoX3E"
      }
    },
    {
      "cell_type": "code",
      "source": [
        "X = df.iloc[:,0:5].values\n",
        "y = df.iloc[:,5].values"
      ],
      "metadata": {
        "id": "4L4T15HNoN_f"
      },
      "execution_count": 29,
      "outputs": []
    },
    {
      "cell_type": "markdown",
      "source": [
        "Print the numerical attributes and then the labels: "
      ],
      "metadata": {
        "id": "yxRsnQeboh_y"
      }
    },
    {
      "cell_type": "code",
      "source": [
        "print(X[0:5])\n",
        "print(y[0:5])"
      ],
      "metadata": {
        "colab": {
          "base_uri": "https://localhost:8080/"
        },
        "id": "x9oeomB-olS8",
        "outputId": "b1824f3b-e41d-4be3-a818-800f7ce8b1d9"
      },
      "execution_count": 30,
      "outputs": [
        {
          "output_type": "stream",
          "name": "stdout",
          "text": [
            "[[1.  5.1 3.5 1.4 0.2]\n",
            " [2.  4.9 3.  1.4 0.2]\n",
            " [3.  4.7 3.2 1.3 0.2]\n",
            " [4.  4.6 3.1 1.5 0.2]\n",
            " [5.  5.  3.6 1.4 0.2]]\n",
            "['Iris-setosa' 'Iris-setosa' 'Iris-setosa' 'Iris-setosa' 'Iris-setosa']\n"
          ]
        }
      ]
    },
    {
      "cell_type": "markdown",
      "source": [
        "Confirm the split has been successful: "
      ],
      "metadata": {
        "id": "v1TB2xdLp6wH"
      }
    },
    {
      "cell_type": "code",
      "source": [
        "print(X.shape)\n",
        "print(y.shape)"
      ],
      "metadata": {
        "colab": {
          "base_uri": "https://localhost:8080/"
        },
        "id": "kf04DtQVpywd",
        "outputId": "27d2c9ab-fbe3-4b40-ee0f-8c452a077fcb"
      },
      "execution_count": 31,
      "outputs": [
        {
          "output_type": "stream",
          "name": "stdout",
          "text": [
            "(150, 5)\n",
            "(150,)\n"
          ]
        }
      ]
    },
    {
      "cell_type": "markdown",
      "source": [
        "Encode the labels:"
      ],
      "metadata": {
        "id": "02rvmzUjqeSK"
      }
    },
    {
      "cell_type": "code",
      "source": [
        "from sklearn.preprocessing import LabelEncoder\n",
        "encoder =  LabelEncoder()\n",
        "y1 = encoder.fit_transform(y)"
      ],
      "metadata": {
        "id": "5vniyxtOp0YS"
      },
      "execution_count": 32,
      "outputs": []
    },
    {
      "cell_type": "markdown",
      "source": [
        "Print the new target labels: "
      ],
      "metadata": {
        "id": "s7raszQIqhKs"
      }
    },
    {
      "cell_type": "code",
      "source": [
        "print(y1)"
      ],
      "metadata": {
        "colab": {
          "base_uri": "https://localhost:8080/"
        },
        "id": "cnTkqU8Kqlvt",
        "outputId": "ce01c13a-1f93-4e27-944e-9b7da01096b8"
      },
      "execution_count": 33,
      "outputs": [
        {
          "output_type": "stream",
          "name": "stdout",
          "text": [
            "[0 0 0 0 0 0 0 0 0 0 0 0 0 0 0 0 0 0 0 0 0 0 0 0 0 0 0 0 0 0 0 0 0 0 0 0 0\n",
            " 0 0 0 0 0 0 0 0 0 0 0 0 0 1 1 1 1 1 1 1 1 1 1 1 1 1 1 1 1 1 1 1 1 1 1 1 1\n",
            " 1 1 1 1 1 1 1 1 1 1 1 1 1 1 1 1 1 1 1 1 1 1 1 1 1 1 2 2 2 2 2 2 2 2 2 2 2\n",
            " 2 2 2 2 2 2 2 2 2 2 2 2 2 2 2 2 2 2 2 2 2 2 2 2 2 2 2 2 2 2 2 2 2 2 2 2 2\n",
            " 2 2]\n"
          ]
        }
      ]
    },
    {
      "cell_type": "markdown",
      "source": [
        "Convert target into one hot encoding, show first few:"
      ],
      "metadata": {
        "id": "HQU1DhoZqrEk"
      }
    },
    {
      "cell_type": "code",
      "source": [
        "Y = pd.get_dummies(y1).values\n",
        "print(Y[0:5])"
      ],
      "metadata": {
        "colab": {
          "base_uri": "https://localhost:8080/"
        },
        "id": "1O4bI8ErrGbi",
        "outputId": "565769e6-0280-484f-ed33-699e382f2b1c"
      },
      "execution_count": 34,
      "outputs": [
        {
          "output_type": "stream",
          "name": "stdout",
          "text": [
            "[[1 0 0]\n",
            " [1 0 0]\n",
            " [1 0 0]\n",
            " [1 0 0]\n",
            " [1 0 0]]\n"
          ]
        }
      ]
    },
    {
      "cell_type": "markdown",
      "source": [
        "Convert X and y into train/test data - import train_test_split"
      ],
      "metadata": {
        "id": "chyTiMKIrPT7"
      }
    },
    {
      "cell_type": "code",
      "source": [
        "from sklearn.model_selection import train_test_split"
      ],
      "metadata": {
        "id": "oUSZymJRrX0N"
      },
      "execution_count": 35,
      "outputs": []
    },
    {
      "cell_type": "markdown",
      "source": [
        "split the data 80/20 (20 being the test data)"
      ],
      "metadata": {
        "id": "0sDlA78-rk8o"
      }
    },
    {
      "cell_type": "code",
      "source": [
        "X_train, X_test, y_train, y_test = train_test_split(X, Y, test_size=0.2, random_state=0)"
      ],
      "metadata": {
        "id": "v2LJqEqWrgq2"
      },
      "execution_count": 36,
      "outputs": []
    },
    {
      "cell_type": "markdown",
      "source": [
        "Print the training data:"
      ],
      "metadata": {
        "id": "zKlbM9kZrv0c"
      }
    },
    {
      "cell_type": "code",
      "source": [
        "print(X_train[0:5])"
      ],
      "metadata": {
        "colab": {
          "base_uri": "https://localhost:8080/"
        },
        "id": "8PqweMbdryFq",
        "outputId": "9b56c70d-ea04-4b84-975e-b5e1929ecd3b"
      },
      "execution_count": 37,
      "outputs": [
        {
          "output_type": "stream",
          "name": "stdout",
          "text": [
            "[[138.    6.4   3.1   5.5   1.8]\n",
            " [ 85.    5.4   3.    4.5   1.5]\n",
            " [ 28.    5.2   3.5   1.5   0.2]\n",
            " [128.    6.1   3.    4.9   1.8]\n",
            " [133.    6.4   2.8   5.6   2.2]]\n"
          ]
        }
      ]
    },
    {
      "cell_type": "code",
      "source": [
        "print(y_train[0:5])"
      ],
      "metadata": {
        "colab": {
          "base_uri": "https://localhost:8080/"
        },
        "id": "gORzP4xxsPhg",
        "outputId": "29845209-86fa-4960-9365-a0034777bf24"
      },
      "execution_count": 38,
      "outputs": [
        {
          "output_type": "stream",
          "name": "stdout",
          "text": [
            "[[0 0 1]\n",
            " [0 1 0]\n",
            " [1 0 0]\n",
            " [0 0 1]\n",
            " [0 0 1]]\n"
          ]
        }
      ]
    },
    {
      "cell_type": "code",
      "source": [
        "print(X_test[0:5])"
      ],
      "metadata": {
        "colab": {
          "base_uri": "https://localhost:8080/"
        },
        "id": "gRkdVuEXsazj",
        "outputId": "5213c40d-8e99-46d1-e90c-c743931f6f84"
      },
      "execution_count": 39,
      "outputs": [
        {
          "output_type": "stream",
          "name": "stdout",
          "text": [
            "[[115.    5.8   2.8   5.1   2.4]\n",
            " [ 63.    6.    2.2   4.    1. ]\n",
            " [ 34.    5.5   4.2   1.4   0.2]\n",
            " [108.    7.3   2.9   6.3   1.8]\n",
            " [  8.    5.    3.4   1.5   0.2]]\n"
          ]
        }
      ]
    },
    {
      "cell_type": "code",
      "source": [
        "print(y_test[0:5])"
      ],
      "metadata": {
        "colab": {
          "base_uri": "https://localhost:8080/"
        },
        "id": "-VjFJZoNsfqT",
        "outputId": "d4aa7db4-3053-4f64-d949-3abf26ca2afa"
      },
      "execution_count": 40,
      "outputs": [
        {
          "output_type": "stream",
          "name": "stdout",
          "text": [
            "[[0 0 1]\n",
            " [0 1 0]\n",
            " [1 0 0]\n",
            " [0 0 1]\n",
            " [1 0 0]]\n"
          ]
        }
      ]
    },
    {
      "cell_type": "markdown",
      "source": [
        "Define a sequential model:"
      ],
      "metadata": {
        "id": "JtpdL1KJtrST"
      }
    },
    {
      "cell_type": "code",
      "source": [
        "model = tf.keras.Sequential([\n",
        "    tf.keras.layers.Dense(10, activation='relu'),\n",
        "    tf.keras.layers.Dense(10, activation='relu'),\n",
        "    tf.keras.layers.Dense(3, activation='softmax')\n",
        "  ])\n",
        "model"
      ],
      "metadata": {
        "colab": {
          "base_uri": "https://localhost:8080/"
        },
        "id": "kF5wVnhVtuIJ",
        "outputId": "15890ce2-5579-44f8-c0c4-07f38132d317"
      },
      "execution_count": 41,
      "outputs": [
        {
          "output_type": "execute_result",
          "data": {
            "text/plain": [
              "<keras.engine.sequential.Sequential at 0x7efdce882f10>"
            ]
          },
          "metadata": {},
          "execution_count": 41
        }
      ]
    },
    {
      "cell_type": "markdown",
      "source": [
        "Compile the model:"
      ],
      "metadata": {
        "id": "I71eq3_5t2wM"
      }
    },
    {
      "cell_type": "code",
      "source": [
        "model.compile(optimizer='rmsprop',\n",
        "              loss='categorical_crossentropy',\n",
        "              metrics=['accuracy'])"
      ],
      "metadata": {
        "id": "ukIAhK8xt4ar"
      },
      "execution_count": 42,
      "outputs": []
    },
    {
      "cell_type": "markdown",
      "source": [
        "Train the model: "
      ],
      "metadata": {
        "id": "yjlhypQmt-nX"
      }
    },
    {
      "cell_type": "code",
      "source": [
        "model.fit(X_train, y_train, batch_size=50, epochs=100)"
      ],
      "metadata": {
        "colab": {
          "base_uri": "https://localhost:8080/"
        },
        "id": "-sWgT0XBuBev",
        "outputId": "bd9e6c5b-64c8-4255-debd-863e84d4e8bb"
      },
      "execution_count": 43,
      "outputs": [
        {
          "output_type": "stream",
          "name": "stdout",
          "text": [
            "Epoch 1/100\n",
            "3/3 [==============================] - 0s 4ms/step - loss: 6.2711 - accuracy: 0.3167\n",
            "Epoch 2/100\n",
            "3/3 [==============================] - 0s 4ms/step - loss: 2.3792 - accuracy: 0.2417\n",
            "Epoch 3/100\n",
            "3/3 [==============================] - 0s 3ms/step - loss: 1.3988 - accuracy: 0.3083\n",
            "Epoch 4/100\n",
            "3/3 [==============================] - 0s 3ms/step - loss: 1.3438 - accuracy: 0.4167\n",
            "Epoch 5/100\n",
            "3/3 [==============================] - 0s 3ms/step - loss: 1.2773 - accuracy: 0.4333\n",
            "Epoch 6/100\n",
            "3/3 [==============================] - 0s 4ms/step - loss: 1.3424 - accuracy: 0.4083\n",
            "Epoch 7/100\n",
            "3/3 [==============================] - 0s 3ms/step - loss: 1.1981 - accuracy: 0.4250\n",
            "Epoch 8/100\n",
            "3/3 [==============================] - 0s 3ms/step - loss: 1.1926 - accuracy: 0.3917\n",
            "Epoch 9/100\n",
            "3/3 [==============================] - 0s 3ms/step - loss: 1.1812 - accuracy: 0.4333\n",
            "Epoch 10/100\n",
            "3/3 [==============================] - 0s 3ms/step - loss: 1.4171 - accuracy: 0.4083\n",
            "Epoch 11/100\n",
            "3/3 [==============================] - 0s 3ms/step - loss: 1.2002 - accuracy: 0.4333\n",
            "Epoch 12/100\n",
            "3/3 [==============================] - 0s 3ms/step - loss: 1.2831 - accuracy: 0.4083\n",
            "Epoch 13/100\n",
            "3/3 [==============================] - 0s 3ms/step - loss: 1.1656 - accuracy: 0.4083\n",
            "Epoch 14/100\n",
            "3/3 [==============================] - 0s 3ms/step - loss: 1.1571 - accuracy: 0.4250\n",
            "Epoch 15/100\n",
            "3/3 [==============================] - 0s 4ms/step - loss: 1.1477 - accuracy: 0.4250\n",
            "Epoch 16/100\n",
            "3/3 [==============================] - 0s 4ms/step - loss: 1.1834 - accuracy: 0.4083\n",
            "Epoch 17/100\n",
            "3/3 [==============================] - 0s 5ms/step - loss: 1.1155 - accuracy: 0.5000\n",
            "Epoch 18/100\n",
            "3/3 [==============================] - 0s 3ms/step - loss: 1.3922 - accuracy: 0.3417\n",
            "Epoch 19/100\n",
            "3/3 [==============================] - 0s 3ms/step - loss: 1.0980 - accuracy: 0.5083\n",
            "Epoch 20/100\n",
            "3/3 [==============================] - 0s 3ms/step - loss: 1.2094 - accuracy: 0.4000\n",
            "Epoch 21/100\n",
            "3/3 [==============================] - 0s 3ms/step - loss: 1.2369 - accuracy: 0.4250\n",
            "Epoch 22/100\n",
            "3/3 [==============================] - 0s 4ms/step - loss: 1.1896 - accuracy: 0.4083\n",
            "Epoch 23/100\n",
            "3/3 [==============================] - 0s 3ms/step - loss: 1.0738 - accuracy: 0.4750\n",
            "Epoch 24/100\n",
            "3/3 [==============================] - 0s 4ms/step - loss: 1.1075 - accuracy: 0.4750\n",
            "Epoch 25/100\n",
            "3/3 [==============================] - 0s 3ms/step - loss: 1.1699 - accuracy: 0.3583\n",
            "Epoch 26/100\n",
            "3/3 [==============================] - 0s 3ms/step - loss: 1.0902 - accuracy: 0.4667\n",
            "Epoch 27/100\n",
            "3/3 [==============================] - 0s 3ms/step - loss: 1.1357 - accuracy: 0.4750\n",
            "Epoch 28/100\n",
            "3/3 [==============================] - 0s 3ms/step - loss: 1.0332 - accuracy: 0.4917\n",
            "Epoch 29/100\n",
            "3/3 [==============================] - 0s 4ms/step - loss: 1.0833 - accuracy: 0.5000\n",
            "Epoch 30/100\n",
            "3/3 [==============================] - 0s 3ms/step - loss: 1.0788 - accuracy: 0.5250\n",
            "Epoch 31/100\n",
            "3/3 [==============================] - 0s 3ms/step - loss: 0.9917 - accuracy: 0.5500\n",
            "Epoch 32/100\n",
            "3/3 [==============================] - 0s 3ms/step - loss: 1.0167 - accuracy: 0.5083\n",
            "Epoch 33/100\n",
            "3/3 [==============================] - 0s 3ms/step - loss: 1.0451 - accuracy: 0.4583\n",
            "Epoch 34/100\n",
            "3/3 [==============================] - 0s 3ms/step - loss: 0.9859 - accuracy: 0.5083\n",
            "Epoch 35/100\n",
            "3/3 [==============================] - 0s 3ms/step - loss: 0.9979 - accuracy: 0.4500\n",
            "Epoch 36/100\n",
            "3/3 [==============================] - 0s 3ms/step - loss: 1.0420 - accuracy: 0.5833\n",
            "Epoch 37/100\n",
            "3/3 [==============================] - 0s 4ms/step - loss: 0.8513 - accuracy: 0.5583\n",
            "Epoch 38/100\n",
            "3/3 [==============================] - 0s 4ms/step - loss: 0.8495 - accuracy: 0.5417\n",
            "Epoch 39/100\n",
            "3/3 [==============================] - 0s 4ms/step - loss: 0.8506 - accuracy: 0.5250\n",
            "Epoch 40/100\n",
            "3/3 [==============================] - 0s 3ms/step - loss: 0.8084 - accuracy: 0.5917\n",
            "Epoch 41/100\n",
            "3/3 [==============================] - 0s 3ms/step - loss: 0.8643 - accuracy: 0.5750\n",
            "Epoch 42/100\n",
            "3/3 [==============================] - 0s 3ms/step - loss: 1.0627 - accuracy: 0.4833\n",
            "Epoch 43/100\n",
            "3/3 [==============================] - 0s 3ms/step - loss: 0.8140 - accuracy: 0.5917\n",
            "Epoch 44/100\n",
            "3/3 [==============================] - 0s 5ms/step - loss: 0.8240 - accuracy: 0.5833\n",
            "Epoch 45/100\n",
            "3/3 [==============================] - 0s 5ms/step - loss: 0.8653 - accuracy: 0.5417\n",
            "Epoch 46/100\n",
            "3/3 [==============================] - 0s 3ms/step - loss: 0.7438 - accuracy: 0.5750\n",
            "Epoch 47/100\n",
            "3/3 [==============================] - 0s 4ms/step - loss: 0.7503 - accuracy: 0.6417\n",
            "Epoch 48/100\n",
            "3/3 [==============================] - 0s 3ms/step - loss: 0.8607 - accuracy: 0.5083\n",
            "Epoch 49/100\n",
            "3/3 [==============================] - 0s 4ms/step - loss: 0.7702 - accuracy: 0.6333\n",
            "Epoch 50/100\n",
            "3/3 [==============================] - 0s 3ms/step - loss: 0.9008 - accuracy: 0.5667\n",
            "Epoch 51/100\n",
            "3/3 [==============================] - 0s 4ms/step - loss: 0.8980 - accuracy: 0.6083\n",
            "Epoch 52/100\n",
            "3/3 [==============================] - 0s 3ms/step - loss: 0.8299 - accuracy: 0.6167\n",
            "Epoch 53/100\n",
            "3/3 [==============================] - 0s 3ms/step - loss: 0.7098 - accuracy: 0.6667\n",
            "Epoch 54/100\n",
            "3/3 [==============================] - 0s 3ms/step - loss: 0.7774 - accuracy: 0.5500\n",
            "Epoch 55/100\n",
            "3/3 [==============================] - 0s 4ms/step - loss: 0.7094 - accuracy: 0.6167\n",
            "Epoch 56/100\n",
            "3/3 [==============================] - 0s 3ms/step - loss: 0.8511 - accuracy: 0.5500\n",
            "Epoch 57/100\n",
            "3/3 [==============================] - 0s 4ms/step - loss: 0.7470 - accuracy: 0.5750\n",
            "Epoch 58/100\n",
            "3/3 [==============================] - 0s 4ms/step - loss: 0.7309 - accuracy: 0.6083\n",
            "Epoch 59/100\n",
            "3/3 [==============================] - 0s 3ms/step - loss: 0.7291 - accuracy: 0.6583\n",
            "Epoch 60/100\n",
            "3/3 [==============================] - 0s 3ms/step - loss: 0.6666 - accuracy: 0.6333\n",
            "Epoch 61/100\n",
            "3/3 [==============================] - 0s 4ms/step - loss: 0.6662 - accuracy: 0.6167\n",
            "Epoch 62/100\n",
            "3/3 [==============================] - 0s 3ms/step - loss: 0.7845 - accuracy: 0.6333\n",
            "Epoch 63/100\n",
            "3/3 [==============================] - 0s 3ms/step - loss: 0.6724 - accuracy: 0.6583\n",
            "Epoch 64/100\n",
            "3/3 [==============================] - 0s 3ms/step - loss: 0.7368 - accuracy: 0.6167\n",
            "Epoch 65/100\n",
            "3/3 [==============================] - 0s 4ms/step - loss: 0.8940 - accuracy: 0.6417\n",
            "Epoch 66/100\n",
            "3/3 [==============================] - 0s 5ms/step - loss: 0.6312 - accuracy: 0.6583\n",
            "Epoch 67/100\n",
            "3/3 [==============================] - 0s 4ms/step - loss: 0.6277 - accuracy: 0.6917\n",
            "Epoch 68/100\n",
            "3/3 [==============================] - 0s 3ms/step - loss: 0.6391 - accuracy: 0.6667\n",
            "Epoch 69/100\n",
            "3/3 [==============================] - 0s 4ms/step - loss: 0.6900 - accuracy: 0.6750\n",
            "Epoch 70/100\n",
            "3/3 [==============================] - 0s 3ms/step - loss: 0.6871 - accuracy: 0.6417\n",
            "Epoch 71/100\n",
            "3/3 [==============================] - 0s 3ms/step - loss: 0.8666 - accuracy: 0.5417\n",
            "Epoch 72/100\n",
            "3/3 [==============================] - 0s 4ms/step - loss: 0.6770 - accuracy: 0.6500\n",
            "Epoch 73/100\n",
            "3/3 [==============================] - 0s 3ms/step - loss: 0.7286 - accuracy: 0.6583\n",
            "Epoch 74/100\n",
            "3/3 [==============================] - 0s 3ms/step - loss: 0.6137 - accuracy: 0.7000\n",
            "Epoch 75/100\n",
            "3/3 [==============================] - 0s 3ms/step - loss: 0.5813 - accuracy: 0.7083\n",
            "Epoch 76/100\n",
            "3/3 [==============================] - 0s 3ms/step - loss: 0.5762 - accuracy: 0.7250\n",
            "Epoch 77/100\n",
            "3/3 [==============================] - 0s 3ms/step - loss: 0.6783 - accuracy: 0.6333\n",
            "Epoch 78/100\n",
            "3/3 [==============================] - 0s 3ms/step - loss: 0.6680 - accuracy: 0.6500\n",
            "Epoch 79/100\n",
            "3/3 [==============================] - 0s 3ms/step - loss: 0.6324 - accuracy: 0.6750\n",
            "Epoch 80/100\n",
            "3/3 [==============================] - 0s 3ms/step - loss: 0.7003 - accuracy: 0.6083\n",
            "Epoch 81/100\n",
            "3/3 [==============================] - 0s 3ms/step - loss: 0.5869 - accuracy: 0.6667\n",
            "Epoch 82/100\n",
            "3/3 [==============================] - 0s 4ms/step - loss: 0.6568 - accuracy: 0.6750\n",
            "Epoch 83/100\n",
            "3/3 [==============================] - 0s 6ms/step - loss: 0.5492 - accuracy: 0.7583\n",
            "Epoch 84/100\n",
            "3/3 [==============================] - 0s 4ms/step - loss: 0.7179 - accuracy: 0.5583\n",
            "Epoch 85/100\n",
            "3/3 [==============================] - 0s 3ms/step - loss: 0.5494 - accuracy: 0.7583\n",
            "Epoch 86/100\n",
            "3/3 [==============================] - 0s 5ms/step - loss: 0.6990 - accuracy: 0.6167\n",
            "Epoch 87/100\n",
            "3/3 [==============================] - 0s 4ms/step - loss: 0.6506 - accuracy: 0.6583\n",
            "Epoch 88/100\n",
            "3/3 [==============================] - 0s 3ms/step - loss: 0.6202 - accuracy: 0.6917\n",
            "Epoch 89/100\n",
            "3/3 [==============================] - 0s 3ms/step - loss: 0.5063 - accuracy: 0.7333\n",
            "Epoch 90/100\n",
            "3/3 [==============================] - 0s 2ms/step - loss: 0.5322 - accuracy: 0.7000\n",
            "Epoch 91/100\n",
            "3/3 [==============================] - 0s 4ms/step - loss: 0.5172 - accuracy: 0.7167\n",
            "Epoch 92/100\n",
            "3/3 [==============================] - 0s 3ms/step - loss: 0.5982 - accuracy: 0.7167\n",
            "Epoch 93/100\n",
            "3/3 [==============================] - 0s 4ms/step - loss: 0.5930 - accuracy: 0.7250\n",
            "Epoch 94/100\n",
            "3/3 [==============================] - 0s 3ms/step - loss: 0.5394 - accuracy: 0.7417\n",
            "Epoch 95/100\n",
            "3/3 [==============================] - 0s 2ms/step - loss: 0.5190 - accuracy: 0.7417\n",
            "Epoch 96/100\n",
            "3/3 [==============================] - 0s 5ms/step - loss: 0.4988 - accuracy: 0.7583\n",
            "Epoch 97/100\n",
            "3/3 [==============================] - 0s 3ms/step - loss: 0.7877 - accuracy: 0.5750\n",
            "Epoch 98/100\n",
            "3/3 [==============================] - 0s 3ms/step - loss: 0.5087 - accuracy: 0.7583\n",
            "Epoch 99/100\n",
            "3/3 [==============================] - 0s 4ms/step - loss: 0.5432 - accuracy: 0.7000\n",
            "Epoch 100/100\n",
            "3/3 [==============================] - 0s 3ms/step - loss: 0.4791 - accuracy: 0.7667\n"
          ]
        },
        {
          "output_type": "execute_result",
          "data": {
            "text/plain": [
              "<keras.callbacks.History at 0x7efdd005e750>"
            ]
          },
          "metadata": {},
          "execution_count": 43
        }
      ]
    },
    {
      "cell_type": "markdown",
      "source": [
        "Evaluate the model:"
      ],
      "metadata": {
        "id": "1MsKs1__uOUG"
      }
    },
    {
      "cell_type": "code",
      "source": [
        "loss, accuracy = model.evaluate(X_test, y_test, verbose=0)\n",
        "print('Test loss:', loss)\n",
        "print('Test accuracy:', accuracy)"
      ],
      "metadata": {
        "colab": {
          "base_uri": "https://localhost:8080/"
        },
        "id": "Pm_B6K6huTNG",
        "outputId": "b870cf50-dec4-455c-f65a-58cb9cbaf127"
      },
      "execution_count": 44,
      "outputs": [
        {
          "output_type": "stream",
          "name": "stdout",
          "text": [
            "Test loss: 0.5634689331054688\n",
            "Test accuracy: 0.7666666507720947\n"
          ]
        }
      ]
    },
    {
      "cell_type": "markdown",
      "source": [
        "Predict the test data: "
      ],
      "metadata": {
        "id": "0waJR-3wuaoA"
      }
    },
    {
      "cell_type": "code",
      "source": [
        "y_pred = model.predict(X_test)\n",
        "y_pred"
      ],
      "metadata": {
        "colab": {
          "base_uri": "https://localhost:8080/"
        },
        "id": "JtF3HnQjuh8O",
        "outputId": "9ee76543-5a60-4d10-80ee-137d3ba10d0a"
      },
      "execution_count": 45,
      "outputs": [
        {
          "output_type": "execute_result",
          "data": {
            "text/plain": [
              "array([[2.12552981e-03, 4.15441245e-01, 5.82433283e-01],\n",
              "       [2.72095323e-01, 4.64321107e-01, 2.63583541e-01],\n",
              "       [8.74930620e-01, 1.18111610e-01, 6.95773587e-03],\n",
              "       [1.51636433e-02, 3.51314873e-01, 6.33521497e-01],\n",
              "       [9.96392071e-01, 3.32669099e-03, 2.81218876e-04],\n",
              "       [2.17659995e-02, 6.36052072e-01, 3.42181951e-01],\n",
              "       [5.45670152e-01, 4.15517867e-01, 3.88119593e-02],\n",
              "       [5.89792356e-02, 6.26036108e-01, 3.14984709e-01],\n",
              "       [1.72787353e-01, 5.55337727e-01, 2.71874905e-01],\n",
              "       [1.35583565e-01, 6.35267735e-01, 2.29148731e-01],\n",
              "       [1.16634117e-04, 1.03398316e-01, 8.96485090e-01],\n",
              "       [8.43569517e-01, 1.32516637e-01, 2.39137765e-02],\n",
              "       [1.33874491e-01, 5.71302176e-01, 2.94823349e-01],\n",
              "       [7.84740925e-01, 1.69878110e-01, 4.53809723e-02],\n",
              "       [3.42608064e-01, 5.15244961e-01, 1.42147005e-01],\n",
              "       [6.28967822e-01, 3.23066592e-01, 4.79656011e-02],\n",
              "       [7.90814161e-02, 6.39069736e-01, 2.81848878e-01],\n",
              "       [1.23617044e-02, 4.37859684e-01, 5.49778640e-01],\n",
              "       [2.96110392e-01, 6.14282727e-01, 8.96068886e-02],\n",
              "       [9.90369618e-01, 9.13519599e-03, 4.95188055e-04],\n",
              "       [5.67327486e-04, 2.91523039e-01, 7.07909703e-01],\n",
              "       [1.85461968e-01, 6.52404130e-01, 1.62133932e-01],\n",
              "       [9.40127373e-01, 5.40966429e-02, 5.77598484e-03],\n",
              "       [9.90863502e-01, 8.20547156e-03, 9.31052899e-04],\n",
              "       [4.07387299e-04, 2.37973332e-01, 7.61619270e-01],\n",
              "       [9.24645245e-01, 7.05784857e-02, 4.77635581e-03],\n",
              "       [4.82080638e-01, 4.77203399e-01, 4.07159179e-02],\n",
              "       [9.73353628e-03, 4.81023610e-01, 5.09242892e-01],\n",
              "       [3.73539655e-03, 3.68316710e-01, 6.27947927e-01],\n",
              "       [9.32432532e-01, 6.19438291e-02, 5.62359579e-03]], dtype=float32)"
            ]
          },
          "metadata": {},
          "execution_count": 45
        }
      ]
    },
    {
      "cell_type": "markdown",
      "source": [
        "Predict actual values and test value: "
      ],
      "metadata": {
        "id": "K_HBfDKYumoe"
      }
    },
    {
      "cell_type": "code",
      "source": [
        "actual = np.argmax(y_test,axis=1)\n",
        "predicted = np.argmax(y_pred,axis=1)\n",
        "print(f\"Actual: {actual}\")\n",
        "print(f\"Predicted: {predicted}\")"
      ],
      "metadata": {
        "colab": {
          "base_uri": "https://localhost:8080/"
        },
        "id": "USlUB-JLumSG",
        "outputId": "af01d234-6560-4131-9639-ed69f22c12db"
      },
      "execution_count": 46,
      "outputs": [
        {
          "output_type": "stream",
          "name": "stdout",
          "text": [
            "Actual: [2 1 0 2 0 2 0 1 1 1 2 1 1 1 1 0 1 1 0 0 2 1 0 0 2 0 0 1 1 0]\n",
            "Predicted: [2 1 0 2 0 1 0 1 1 1 2 0 1 0 1 0 1 2 1 0 2 1 0 0 2 0 0 2 2 0]\n"
          ]
        }
      ]
    }
  ]
}
