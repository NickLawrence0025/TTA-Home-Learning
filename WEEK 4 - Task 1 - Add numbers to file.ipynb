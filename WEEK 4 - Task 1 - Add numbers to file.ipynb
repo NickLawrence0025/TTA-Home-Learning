{
  "nbformat": 4,
  "nbformat_minor": 0,
  "metadata": {
    "colab": {
      "name": "WEEK 4 - Task 2 - add numbers to file.ipynb",
      "provenance": [],
      "authorship_tag": "ABX9TyOxMbinKnnDs2Dy0syWdQ5G",
      "include_colab_link": true
    },
    "kernelspec": {
      "name": "python3",
      "display_name": "Python 3"
    },
    "language_info": {
      "name": "python"
    }
  },
  "cells": [
    {
      "cell_type": "markdown",
      "metadata": {
        "id": "view-in-github",
        "colab_type": "text"
      },
      "source": [
        "<a href=\"https://colab.research.google.com/github/NickLawrence0025/TTA-Home-Learning/blob/main/WEEK_4_Task_2_add_numbers_to_file.ipynb\" target=\"_parent\"><img src=\"https://colab.research.google.com/assets/colab-badge.svg\" alt=\"Open In Colab\"/></a>"
      ]
    },
    {
      "cell_type": "code",
      "execution_count": null,
      "metadata": {
        "id": "rNU0nXY5ePtS"
      },
      "outputs": [],
      "source": [
        "#Adds four numbers to a text file called Numbers.txt\n",
        "from re import A\n",
        "\n",
        "number_list = []\n",
        "option = input(\"A to append or W to open a new file: \")\n",
        "first = input(\"Enter your first number: \")\n",
        "number_list.append(first)\n",
        "second = input(\"Enter your second number: \")\n",
        "number_list.append(second)\n",
        "third= input(\"Enter your third number: \")\n",
        "number_list.append(third)\n",
        "fourth = input(\"Enter your fourth number: \")\n",
        "number_list.append(fourth)\n",
        "\n",
        "\n",
        "if option == \"A\":\n",
        "    myfile = open(\"Numbers.txt\", \"a\")\n",
        "    myfile.write(str(number_list))\n",
        "    myfile.write(\"\\n\")\n",
        "\n",
        "\n",
        "elif option == \"W\":\n",
        "    myfile = open(\"Numbers.txt\", \"w\")\n",
        "    myfile.write(str(number_list))\n",
        "    myfile.write(\"\\n\")\n",
        "       \n",
        "\n",
        "else:\n",
        "    print(\"Invalid response!\")\n",
        "    \n",
        "    \n",
        "print(\"Currently in the file: \")\n",
        "\n",
        "with open(\"Numbers.txt\", \"r\") as myfile:\n",
        "    data = myfile.read().replace('\\n', ',')\n",
        "    print(data)\n",
        "    \n",
        "myfile.close()\n",
        "\n",
        "\n",
        "\n",
        "\n"
      ]
    }
  ]
}
