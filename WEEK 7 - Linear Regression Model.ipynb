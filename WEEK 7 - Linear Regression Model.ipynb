{
  "nbformat": 4,
  "nbformat_minor": 0,
  "metadata": {
    "colab": {
      "name": "V.basic  Linear Regression Model for honey production ",
      "provenance": [],
      "collapsed_sections": [],
      "authorship_tag": "ABX9TyNF6EVhofFXGdQue7+/2Th2",
      "include_colab_link": true
    },
    "kernelspec": {
      "name": "python3",
      "display_name": "Python 3"
    },
    "language_info": {
      "name": "python"
    }
  },
  "cells": [
    {
      "cell_type": "markdown",
      "metadata": {
        "id": "view-in-github",
        "colab_type": "text"
      },
      "source": [
        "<a href=\"https://colab.research.google.com/github/NickLawrence0025/TTA-Home-Learning/blob/main/V_basic_Linear_Regression_Model_for_honey_production.ipynb\" target=\"_parent\"><img src=\"https://colab.research.google.com/assets/colab-badge.svg\" alt=\"Open In Colab\"/></a>"
      ]
    },
    {
      "cell_type": "code",
      "source": [
        "import pandas as pd\n",
        "import matplotlib.pyplot as plt\n",
        "import numpy as np\n",
        "from sklearn import linear_model\n"
      ],
      "metadata": {
        "id": "cnmToCTqn2Uu"
      },
      "execution_count": 2,
      "outputs": []
    },
    {
      "cell_type": "code",
      "execution_count": 13,
      "metadata": {
        "colab": {
          "base_uri": "https://localhost:8080/",
          "height": 206
        },
        "id": "oVU2qEG7nYq1",
        "outputId": "f778db87-46e2-4b6c-d89a-26ab4a477551"
      },
      "outputs": [
        {
          "output_type": "execute_result",
          "data": {
            "text/plain": [
              "  state    numcol  yieldpercol   totalprod      stocks  priceperlb  \\\n",
              "0    AL   16000.0           71   1136000.0    159000.0        0.72   \n",
              "1    AZ   55000.0           60   3300000.0   1485000.0        0.64   \n",
              "2    AR   53000.0           65   3445000.0   1688000.0        0.59   \n",
              "3    CA  450000.0           83  37350000.0  12326000.0        0.62   \n",
              "4    CO   27000.0           72   1944000.0   1594000.0        0.70   \n",
              "\n",
              "    prodvalue  year  \n",
              "0    818000.0  1998  \n",
              "1   2112000.0  1998  \n",
              "2   2033000.0  1998  \n",
              "3  23157000.0  1998  \n",
              "4   1361000.0  1998  "
            ],
            "text/html": [
              "\n",
              "  <div id=\"df-9d6c560d-ca7c-41d3-acca-cf393c5d4ea6\">\n",
              "    <div class=\"colab-df-container\">\n",
              "      <div>\n",
              "<style scoped>\n",
              "    .dataframe tbody tr th:only-of-type {\n",
              "        vertical-align: middle;\n",
              "    }\n",
              "\n",
              "    .dataframe tbody tr th {\n",
              "        vertical-align: top;\n",
              "    }\n",
              "\n",
              "    .dataframe thead th {\n",
              "        text-align: right;\n",
              "    }\n",
              "</style>\n",
              "<table border=\"1\" class=\"dataframe\">\n",
              "  <thead>\n",
              "    <tr style=\"text-align: right;\">\n",
              "      <th></th>\n",
              "      <th>state</th>\n",
              "      <th>numcol</th>\n",
              "      <th>yieldpercol</th>\n",
              "      <th>totalprod</th>\n",
              "      <th>stocks</th>\n",
              "      <th>priceperlb</th>\n",
              "      <th>prodvalue</th>\n",
              "      <th>year</th>\n",
              "    </tr>\n",
              "  </thead>\n",
              "  <tbody>\n",
              "    <tr>\n",
              "      <th>0</th>\n",
              "      <td>AL</td>\n",
              "      <td>16000.0</td>\n",
              "      <td>71</td>\n",
              "      <td>1136000.0</td>\n",
              "      <td>159000.0</td>\n",
              "      <td>0.72</td>\n",
              "      <td>818000.0</td>\n",
              "      <td>1998</td>\n",
              "    </tr>\n",
              "    <tr>\n",
              "      <th>1</th>\n",
              "      <td>AZ</td>\n",
              "      <td>55000.0</td>\n",
              "      <td>60</td>\n",
              "      <td>3300000.0</td>\n",
              "      <td>1485000.0</td>\n",
              "      <td>0.64</td>\n",
              "      <td>2112000.0</td>\n",
              "      <td>1998</td>\n",
              "    </tr>\n",
              "    <tr>\n",
              "      <th>2</th>\n",
              "      <td>AR</td>\n",
              "      <td>53000.0</td>\n",
              "      <td>65</td>\n",
              "      <td>3445000.0</td>\n",
              "      <td>1688000.0</td>\n",
              "      <td>0.59</td>\n",
              "      <td>2033000.0</td>\n",
              "      <td>1998</td>\n",
              "    </tr>\n",
              "    <tr>\n",
              "      <th>3</th>\n",
              "      <td>CA</td>\n",
              "      <td>450000.0</td>\n",
              "      <td>83</td>\n",
              "      <td>37350000.0</td>\n",
              "      <td>12326000.0</td>\n",
              "      <td>0.62</td>\n",
              "      <td>23157000.0</td>\n",
              "      <td>1998</td>\n",
              "    </tr>\n",
              "    <tr>\n",
              "      <th>4</th>\n",
              "      <td>CO</td>\n",
              "      <td>27000.0</td>\n",
              "      <td>72</td>\n",
              "      <td>1944000.0</td>\n",
              "      <td>1594000.0</td>\n",
              "      <td>0.70</td>\n",
              "      <td>1361000.0</td>\n",
              "      <td>1998</td>\n",
              "    </tr>\n",
              "  </tbody>\n",
              "</table>\n",
              "</div>\n",
              "      <button class=\"colab-df-convert\" onclick=\"convertToInteractive('df-9d6c560d-ca7c-41d3-acca-cf393c5d4ea6')\"\n",
              "              title=\"Convert this dataframe to an interactive table.\"\n",
              "              style=\"display:none;\">\n",
              "        \n",
              "  <svg xmlns=\"http://www.w3.org/2000/svg\" height=\"24px\"viewBox=\"0 0 24 24\"\n",
              "       width=\"24px\">\n",
              "    <path d=\"M0 0h24v24H0V0z\" fill=\"none\"/>\n",
              "    <path d=\"M18.56 5.44l.94 2.06.94-2.06 2.06-.94-2.06-.94-.94-2.06-.94 2.06-2.06.94zm-11 1L8.5 8.5l.94-2.06 2.06-.94-2.06-.94L8.5 2.5l-.94 2.06-2.06.94zm10 10l.94 2.06.94-2.06 2.06-.94-2.06-.94-.94-2.06-.94 2.06-2.06.94z\"/><path d=\"M17.41 7.96l-1.37-1.37c-.4-.4-.92-.59-1.43-.59-.52 0-1.04.2-1.43.59L10.3 9.45l-7.72 7.72c-.78.78-.78 2.05 0 2.83L4 21.41c.39.39.9.59 1.41.59.51 0 1.02-.2 1.41-.59l7.78-7.78 2.81-2.81c.8-.78.8-2.07 0-2.86zM5.41 20L4 18.59l7.72-7.72 1.47 1.35L5.41 20z\"/>\n",
              "  </svg>\n",
              "      </button>\n",
              "      \n",
              "  <style>\n",
              "    .colab-df-container {\n",
              "      display:flex;\n",
              "      flex-wrap:wrap;\n",
              "      gap: 12px;\n",
              "    }\n",
              "\n",
              "    .colab-df-convert {\n",
              "      background-color: #E8F0FE;\n",
              "      border: none;\n",
              "      border-radius: 50%;\n",
              "      cursor: pointer;\n",
              "      display: none;\n",
              "      fill: #1967D2;\n",
              "      height: 32px;\n",
              "      padding: 0 0 0 0;\n",
              "      width: 32px;\n",
              "    }\n",
              "\n",
              "    .colab-df-convert:hover {\n",
              "      background-color: #E2EBFA;\n",
              "      box-shadow: 0px 1px 2px rgba(60, 64, 67, 0.3), 0px 1px 3px 1px rgba(60, 64, 67, 0.15);\n",
              "      fill: #174EA6;\n",
              "    }\n",
              "\n",
              "    [theme=dark] .colab-df-convert {\n",
              "      background-color: #3B4455;\n",
              "      fill: #D2E3FC;\n",
              "    }\n",
              "\n",
              "    [theme=dark] .colab-df-convert:hover {\n",
              "      background-color: #434B5C;\n",
              "      box-shadow: 0px 1px 3px 1px rgba(0, 0, 0, 0.15);\n",
              "      filter: drop-shadow(0px 1px 2px rgba(0, 0, 0, 0.3));\n",
              "      fill: #FFFFFF;\n",
              "    }\n",
              "  </style>\n",
              "\n",
              "      <script>\n",
              "        const buttonEl =\n",
              "          document.querySelector('#df-9d6c560d-ca7c-41d3-acca-cf393c5d4ea6 button.colab-df-convert');\n",
              "        buttonEl.style.display =\n",
              "          google.colab.kernel.accessAllowed ? 'block' : 'none';\n",
              "\n",
              "        async function convertToInteractive(key) {\n",
              "          const element = document.querySelector('#df-9d6c560d-ca7c-41d3-acca-cf393c5d4ea6');\n",
              "          const dataTable =\n",
              "            await google.colab.kernel.invokeFunction('convertToInteractive',\n",
              "                                                     [key], {});\n",
              "          if (!dataTable) return;\n",
              "\n",
              "          const docLinkHtml = 'Like what you see? Visit the ' +\n",
              "            '<a target=\"_blank\" href=https://colab.research.google.com/notebooks/data_table.ipynb>data table notebook</a>'\n",
              "            + ' to learn more about interactive tables.';\n",
              "          element.innerHTML = '';\n",
              "          dataTable['output_type'] = 'display_data';\n",
              "          await google.colab.output.renderOutput(dataTable, element);\n",
              "          const docLink = document.createElement('div');\n",
              "          docLink.innerHTML = docLinkHtml;\n",
              "          element.appendChild(docLink);\n",
              "        }\n",
              "      </script>\n",
              "    </div>\n",
              "  </div>\n",
              "  "
            ]
          },
          "metadata": {},
          "execution_count": 13
        }
      ],
      "source": [
        "df = pd.read_csv(\"honeyproduction.csv\")\n",
        "df.head()"
      ]
    },
    {
      "cell_type": "code",
      "source": [
        ""
      ],
      "metadata": {
        "id": "zELiJmAsCOri"
      },
      "execution_count": 3,
      "outputs": []
    },
    {
      "cell_type": "markdown",
      "source": [
        ""
      ],
      "metadata": {
        "id": "oYfgvh2CRidv"
      }
    },
    {
      "cell_type": "markdown",
      "source": [
        "The data shows the total honey production for each state, but to get an overall view of honey production across the US, we can aggregate all of the production years.\n",
        "\n",
        "Total honey production per year: "
      ],
      "metadata": {
        "id": "9sQnd_R3CYcP"
      }
    },
    {
      "cell_type": "code",
      "source": [
        "prod_per_year = df.groupby('year').totalprod.mean().reset_index()\n",
        "print(prod_per_year)"
      ],
      "metadata": {
        "colab": {
          "base_uri": "https://localhost:8080/"
        },
        "id": "1OyyeOJPCdMu",
        "outputId": "3c7ac73a-577f-45cf-af8c-74655102bf3f"
      },
      "execution_count": 4,
      "outputs": [
        {
          "output_type": "stream",
          "name": "stdout",
          "text": [
            "    year     totalprod\n",
            "0   1998  5.105093e+06\n",
            "1   1999  4.706674e+06\n",
            "2   2000  5.106000e+06\n",
            "3   2001  4.221545e+06\n",
            "4   2002  3.892386e+06\n",
            "5   2003  4.122091e+06\n",
            "6   2004  4.456805e+06\n",
            "7   2005  4.243146e+06\n",
            "8   2006  3.761902e+06\n",
            "9   2007  3.600512e+06\n",
            "10  2008  3.974927e+06\n",
            "11  2009  3.626700e+06\n",
            "12  2010  4.382350e+06\n",
            "13  2011  3.680025e+06\n",
            "14  2012  3.522675e+06\n"
          ]
        }
      ]
    },
    {
      "cell_type": "markdown",
      "source": [
        "Reshape the data:"
      ],
      "metadata": {
        "id": "rnI6xsEXC1A6"
      }
    },
    {
      "cell_type": "code",
      "source": [
        "X = prod_per_year['year']\n",
        "X = X.values.reshape(-1,1)"
      ],
      "metadata": {
        "id": "lCkias_jC4ct"
      },
      "execution_count": 5,
      "outputs": []
    },
    {
      "cell_type": "markdown",
      "source": [
        "Create a variable called y for the total_prod column"
      ],
      "metadata": {
        "id": "GwaNOyFPDmZT"
      }
    },
    {
      "cell_type": "code",
      "source": [
        "y = prod_per_year['totalprod']"
      ],
      "metadata": {
        "id": "8P8E-C1pC9sG"
      },
      "execution_count": 6,
      "outputs": []
    },
    {
      "cell_type": "markdown",
      "source": [
        "create a scatter plot:"
      ],
      "metadata": {
        "id": "gzOFpfezJho_"
      }
    },
    {
      "cell_type": "code",
      "source": [
        "plt.scatter(X,y)\n",
        "plt.show()"
      ],
      "metadata": {
        "colab": {
          "base_uri": "https://localhost:8080/",
          "height": 276
        },
        "id": "1OYqCQ2WJk6u",
        "outputId": "360fa8b3-03c8-4196-bba7-fa1807fa3845"
      },
      "execution_count": 7,
      "outputs": [
        {
          "output_type": "display_data",
          "data": {
            "text/plain": [
              "<Figure size 432x288 with 1 Axes>"
            ],
            "image/png": "[encoded data removed]"
          },
          "metadata": {
            "needs_background": "light"
          }
        }
      ]
    },
    {
      "cell_type": "markdown",
      "source": [
        "Create a linear regression model, and then fit to the data:"
      ],
      "metadata": {
        "id": "Oszh3ygPJ9Nb"
      }
    },
    {
      "cell_type": "code",
      "source": [
        "regr = linear_model.LinearRegression()\n",
        "regr.fit(X,y)"
      ],
      "metadata": {
        "colab": {
          "base_uri": "https://localhost:8080/"
        },
        "id": "V6lpA7Q5KCeA",
        "outputId": "28cc270e-3904-413c-deb4-38c4ec1d99b8"
      },
      "execution_count": 8,
      "outputs": [
        {
          "output_type": "execute_result",
          "data": {
            "text/plain": [
              "LinearRegression()"
            ]
          },
          "metadata": {},
          "execution_count": 8
        }
      ]
    },
    {
      "cell_type": "markdown",
      "source": [
        "print the coefficients and the intercept:"
      ],
      "metadata": {
        "id": "q9tLBcThKOSf"
      }
    },
    {
      "cell_type": "code",
      "source": [
        "print(regr.coef_[0])\n",
        "print(regr.intercept_)"
      ],
      "metadata": {
        "colab": {
          "base_uri": "https://localhost:8080/"
        },
        "id": "fzUUxc1kKRqL",
        "outputId": "9c8970cb-f1c7-4fa9-d2ad-98ec68a454f7"
      },
      "execution_count": 9,
      "outputs": [
        {
          "output_type": "stream",
          "name": "stdout",
          "text": [
            "-88303.18915238192\n",
            "181208083.10732976\n"
          ]
        }
      ]
    },
    {
      "cell_type": "markdown",
      "source": [
        "The first number shows that the gradient of honey production in relation the time series.  The second number represents honey production for the first recorded year."
      ],
      "metadata": {
        "id": "9fV4GiHQKXEw"
      }
    },
    {
      "cell_type": "markdown",
      "source": [
        "Calculate a gradient line through all of the points on the scatter plot:"
      ],
      "metadata": {
        "id": "ppD0Z6-LLljv"
      }
    },
    {
      "cell_type": "code",
      "source": [
        "y_predict = regr.predict(X)\n",
        "plt.plot(X,y_predict)\n",
        "plt.show()"
      ],
      "metadata": {
        "colab": {
          "base_uri": "https://localhost:8080/",
          "height": 276
        },
        "id": "nicEIiP_Ku1a",
        "outputId": "eabe0bae-6fd0-4d52-bc0f-7b9f727dc698"
      },
      "execution_count": 10,
      "outputs": [
        {
          "output_type": "display_data",
          "data": {
            "text/plain": [
              "<Figure size 432x288 with 1 Axes>"
            ],
            "image/png": "[encoded data removed]"
          },
          "metadata": {
            "needs_background": "light"
          }
        }
      ]
    },
    {
      "cell_type": "markdown",
      "source": [
        "Create an array for a series of years from 2013 to 2051, reshape it. "
      ],
      "metadata": {
        "id": "EUG68wJDUF8Q"
      }
    },
    {
      "cell_type": "code",
      "source": [
        "X_future = np.array(range(2013,2051))\n",
        "X_future = X_future.reshape(-1,1)"
      ],
      "metadata": {
        "id": "PK52lKA1OW2O"
      },
      "execution_count": 11,
      "outputs": []
    },
    {
      "cell_type": "markdown",
      "source": [
        "Taking the linear regression model that we have assigned to the variable 'regr', predict a series of production values that will be based on the coefficient from the fitted model. \n",
        "\n",
        "Then create a plot based on those values. "
      ],
      "metadata": {
        "id": "8AZIo4e5URVq"
      }
    },
    {
      "cell_type": "code",
      "source": [
        "future_predict = regr.predict(X_future)\n",
        "plt.plot(X_future,future_predict)\n",
        "plt.show()"
      ],
      "metadata": {
        "colab": {
          "base_uri": "https://localhost:8080/",
          "height": 276
        },
        "id": "oSjRWNLSOY_a",
        "outputId": "d72b3857-83da-4dd6-d63d-247e2e386b14"
      },
      "execution_count": 12,
      "outputs": [
        {
          "output_type": "display_data",
          "data": {
            "text/plain": [
              "<Figure size 432x288 with 1 Axes>"
            ],
            "image/png": "[encoded data removed]"
          },
          "metadata": {
            "needs_background": "light"
          }
        }
      ]
    },
    {
      "cell_type": "markdown",
      "source": [
        "Realistically, production value is unlikely to degrade in such a neat fashion, but the linear regression model gives us an approximate trend line where we can predict approximate values for any of the years between 2013 and 2050. "
      ],
      "metadata": {
        "id": "uzor0bLyU5EB"
      }
    }
  ]
}
