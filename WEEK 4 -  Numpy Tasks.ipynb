{
 "cells": [
  {
   "cell_type": "code",
   "execution_count": 2,
   "metadata": {},
   "outputs": [],
   "source": [
    "import numpy as np"
   ]
  },
  {
   "cell_type": "code",
   "execution_count": 4,
   "metadata": {},
   "outputs": [
    {
     "name": "stdout",
     "output_type": "stream",
     "text": [
      "[1 2 3 4 5 6 7 8 9]\n"
     ]
    }
   ],
   "source": [
    "#Q.1\n",
    "\n",
    "array = np.arange(1,10)\n",
    "print(array)"
   ]
  },
  {
   "cell_type": "code",
   "execution_count": 420,
   "metadata": {},
   "outputs": [
    {
     "name": "stdout",
     "output_type": "stream",
     "text": [
      "[[ True  True  True]\n",
      " [ True  True  True]\n",
      " [ True  True  True]]\n"
     ]
    }
   ],
   "source": [
    "#Q.2\n",
    "\n",
    "lst = np.arange(1,10)\n",
    "is_positive = lst > 0\n",
    "x = is_positive.reshape(3,3)\n",
    "print(x)\n",
    "\n",
    "    "
   ]
  },
  {
   "cell_type": "code",
   "execution_count": 216,
   "metadata": {},
   "outputs": [
    {
     "name": "stdout",
     "output_type": "stream",
     "text": [
      "[1 3 5 7 9]\n"
     ]
    }
   ],
   "source": [
    "#Q.3\n",
    "\n",
    "odd_lst = np.arange(1,10,2)\n",
    "print(odd_lst)"
   ]
  },
  {
   "cell_type": "code",
   "execution_count": 5,
   "metadata": {},
   "outputs": [
    {
     "name": "stdout",
     "output_type": "stream",
     "text": [
      "[ 0  2  2  4  4  6  6  8  8 10]\n"
     ]
    }
   ],
   "source": [
    "#Q.4  For every value with an even index number (0,2,4....), subtract one from the value (which will be odd)\n",
    "x = np.arange(1,11)\n",
    "for i in range(len(x)):\n",
    "    if i % 2 == 0:\n",
    "        x[i] = x[i] -1\n",
    "print(x) \n",
    "    \n",
    "        "
   ]
  },
  {
   "cell_type": "code",
   "execution_count": 7,
   "metadata": {},
   "outputs": [
    {
     "name": "stdout",
     "output_type": "stream",
     "text": [
      "[-1  2 -1  4 -1  6 -1  8 -1 10]\n"
     ]
    }
   ],
   "source": [
    "#Q4. For every odd number, replace with value \"-1\"\n",
    "\n",
    "array = np.arange(1,11)\n",
    "f = array%2 == 1\n",
    "array[f] = -1\n",
    "print (array)"
   ]
  },
  {
   "cell_type": "code",
   "execution_count": 5,
   "metadata": {},
   "outputs": [
    {
     "name": "stdout",
     "output_type": "stream",
     "text": [
      "[[ 1  2  3  4  5  6]\n",
      " [ 7  8  9 10 11 12]]\n"
     ]
    }
   ],
   "source": [
    "#Q.5\n",
    "two_dimension = np.arange(1,13).reshape(2,6)\n",
    "print(two_dimension)"
   ]
  },
  {
   "cell_type": "code",
   "execution_count": 140,
   "metadata": {},
   "outputs": [
    {
     "name": "stdout",
     "output_type": "stream",
     "text": [
      "[1032 1168 1304 1440]\n",
      "[ 420  964 1508 2052]\n"
     ]
    }
   ],
   "source": [
    "#Q.6\n",
    "\n",
    "a = np.arange(1,17).reshape(4,4)\n",
    "b = np.arange(1,17).reshape(4,4)\n",
    "c = np.dot(a,b)\n",
    "column_sum = np.sum(c,axis=0)\n",
    "row_sum = np.sum(c,axis=1)\n",
    "\n",
    "print(column_sum)\n",
    "print(row_sum)"
   ]
  },
  {
   "cell_type": "code",
   "execution_count": 8,
   "metadata": {},
   "outputs": [
    {
     "name": "stdout",
     "output_type": "stream",
     "text": [
      "[1. 1. 1. 2. 2. 2. 3. 3. 3. 1. 2. 3. 1. 2. 3. 1. 2. 3.]\n"
     ]
    }
   ],
   "source": [
    "#Q.7 (uses ONLY functions)\n",
    "\n",
    "one = np.ones(3)\n",
    "twos = (one)*2\n",
    "threes = (one)*3\n",
    "comb = np.concatenate((one,twos,threes))\n",
    "matrix = comb.reshape(3,3)\n",
    "transpose = matrix.T\n",
    "flatten = transpose.flatten()\n",
    "concatenate = np.concatenate((comb,flatten))\n",
    "print(concatenate)\n",
    "\n",
    "\n",
    "\n",
    "\n"
   ]
  },
  {
   "cell_type": "code",
   "execution_count": 435,
   "metadata": {},
   "outputs": [
    {
     "name": "stdout",
     "output_type": "stream",
     "text": [
      "24\n"
     ]
    }
   ],
   "source": [
    "#Q.8\n",
    "a = (1,2,3,4,5)\n",
    "b = (4,5,6,7,8,9)\n",
    "\n",
    "arr = np.delete(b,[0,1])\n",
    "\n",
    "\n",
    "\n",
    "#Q.9\n",
    "c = np.concatenate((a,b),axis=0)\n",
    "d = np.sort(c)\n",
    "e = d[3:8]\n",
    "f = np.sum(e)\n",
    "print(f)\n",
    "\n"
   ]
  }
 ],
 "metadata": {
  "interpreter": {
   "hash": "b4f3a28db8b1fda868d5c38da0d13b59a9d57512eaf9ecb8157d59271cb777f0"
  },
  "kernelspec": {
   "display_name": "Python 3.9.1 ('base')",
   "language": "python",
   "name": "python3"
  },
  "language_info": {
   "codemirror_mode": {
    "name": "ipython",
    "version": 3
   },
   "file_extension": ".py",
   "mimetype": "text/x-python",
   "name": "python",
   "nbconvert_exporter": "python",
   "pygments_lexer": "ipython3",
   "version": "3.9.1"
  },
  "orig_nbformat": 4
 },
 "nbformat": 4,
 "nbformat_minor": 2
}
