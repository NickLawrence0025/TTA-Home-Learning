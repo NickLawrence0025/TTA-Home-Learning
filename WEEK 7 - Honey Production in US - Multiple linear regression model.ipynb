{
  "nbformat": 4,
  "nbformat_minor": 0,
  "metadata": {
    "colab": {
      "name": "Multiple linear regression model.ipynb",
      "provenance": [],
      "collapsed_sections": [],
      "authorship_tag": "ABX9TyMrKmkIPAfAtpf8gNNI/jVe",
      "include_colab_link": true
    },
    "kernelspec": {
      "name": "python3",
      "display_name": "Python 3"
    },
    "language_info": {
      "name": "python"
    }
  },
  "cells": [
    {
      "cell_type": "markdown",
      "metadata": {
        "id": "view-in-github",
        "colab_type": "text"
      },
      "source": [
        "<a href=\"https://colab.research.google.com/github/NickLawrence0025/TTA-Home-Learning/blob/main/Multiple_linear_regression_model.ipynb\" target=\"_parent\"><img src=\"https://colab.research.google.com/assets/colab-badge.svg\" alt=\"Open In Colab\"/></a>"
      ]
    },
    {
      "cell_type": "code",
      "execution_count": 148,
      "metadata": {
        "id": "a-WeoHqrH9NI"
      },
      "outputs": [],
      "source": [
        "import pandas as pd\n",
        "from sklearn.model_selection import train_test_split\n",
        "from sklearn.linear_model import LinearRegression\n",
        "import matplotlib.pyplot as plt\n",
        "from numpy import asarray\n",
        "from sklearn.preprocessing import OneHotEncoder"
      ]
    },
    {
      "cell_type": "markdown",
      "source": [
        "Read the csv into a dataframe:"
      ],
      "metadata": {
        "id": "I_VowbChLtz0"
      }
    },
    {
      "cell_type": "code",
      "source": [
        "honey_df = pd.read_csv('honeyproduction.csv')"
      ],
      "metadata": {
        "id": "AvcQrc5vNHbn"
      },
      "execution_count": 149,
      "outputs": []
    },
    {
      "cell_type": "markdown",
      "source": [
        "One-hot encode the states so that they can be used in training the model. There may be regional factors in estimating produce value"
      ],
      "metadata": {
        "id": "9XJ0NEnfa2W-"
      }
    },
    {
      "cell_type": "code",
      "source": [
        "honey_df = pd.get_dummies(data = honey_df, columns= ['state'])"
      ],
      "metadata": {
        "id": "MhbhKz-CGaOT"
      },
      "execution_count": 150,
      "outputs": []
    },
    {
      "cell_type": "markdown",
      "source": [
        "Examine the top five rows to see the data types and columns."
      ],
      "metadata": {
        "id": "m75MjycZLzDR"
      }
    },
    {
      "cell_type": "code",
      "source": [
        "honey_df.head()"
      ],
      "metadata": {
        "colab": {
          "base_uri": "https://localhost:8080/",
          "height": 299
        },
        "id": "3luhW078NmDo",
        "outputId": "3bbd10a3-1c86-4577-ed07-68117ce29b69"
      },
      "execution_count": 151,
      "outputs": [
        {
          "output_type": "execute_result",
          "data": {
            "text/plain": [
              "     numcol  yieldpercol   totalprod      stocks  priceperlb   prodvalue  \\\n",
              "0   16000.0           71   1136000.0    159000.0        0.72    818000.0   \n",
              "1   55000.0           60   3300000.0   1485000.0        0.64   2112000.0   \n",
              "2   53000.0           65   3445000.0   1688000.0        0.59   2033000.0   \n",
              "3  450000.0           83  37350000.0  12326000.0        0.62  23157000.0   \n",
              "4   27000.0           72   1944000.0   1594000.0        0.70   1361000.0   \n",
              "\n",
              "   year  state_AL  state_AR  state_AZ  ...  state_SD  state_TN  state_TX  \\\n",
              "0  1998         1         0         0  ...         0         0         0   \n",
              "1  1998         0         0         1  ...         0         0         0   \n",
              "2  1998         0         1         0  ...         0         0         0   \n",
              "3  1998         0         0         0  ...         0         0         0   \n",
              "4  1998         0         0         0  ...         0         0         0   \n",
              "\n",
              "   state_UT  state_VA  state_VT  state_WA  state_WI  state_WV  state_WY  \n",
              "0         0         0         0         0         0         0         0  \n",
              "1         0         0         0         0         0         0         0  \n",
              "2         0         0         0         0         0         0         0  \n",
              "3         0         0         0         0         0         0         0  \n",
              "4         0         0         0         0         0         0         0  \n",
              "\n",
              "[5 rows x 51 columns]"
            ],
            "text/html": [
              "\n",
              "  <div id=\"df-6a74e130-2f8c-4849-8c87-5687868da327\">\n",
              "    <div class=\"colab-df-container\">\n",
              "      <div>\n",
              "<style scoped>\n",
              "    .dataframe tbody tr th:only-of-type {\n",
              "        vertical-align: middle;\n",
              "    }\n",
              "\n",
              "    .dataframe tbody tr th {\n",
              "        vertical-align: top;\n",
              "    }\n",
              "\n",
              "    .dataframe thead th {\n",
              "        text-align: right;\n",
              "    }\n",
              "</style>\n",
              "<table border=\"1\" class=\"dataframe\">\n",
              "  <thead>\n",
              "    <tr style=\"text-align: right;\">\n",
              "      <th></th>\n",
              "      <th>numcol</th>\n",
              "      <th>yieldpercol</th>\n",
              "      <th>totalprod</th>\n",
              "      <th>stocks</th>\n",
              "      <th>priceperlb</th>\n",
              "      <th>prodvalue</th>\n",
              "      <th>year</th>\n",
              "      <th>state_AL</th>\n",
              "      <th>state_AR</th>\n",
              "      <th>state_AZ</th>\n",
              "      <th>...</th>\n",
              "      <th>state_SD</th>\n",
              "      <th>state_TN</th>\n",
              "      <th>state_TX</th>\n",
              "      <th>state_UT</th>\n",
              "      <th>state_VA</th>\n",
              "      <th>state_VT</th>\n",
              "      <th>state_WA</th>\n",
              "      <th>state_WI</th>\n",
              "      <th>state_WV</th>\n",
              "      <th>state_WY</th>\n",
              "    </tr>\n",
              "  </thead>\n",
              "  <tbody>\n",
              "    <tr>\n",
              "      <th>0</th>\n",
              "      <td>16000.0</td>\n",
              "      <td>71</td>\n",
              "      <td>1136000.0</td>\n",
              "      <td>159000.0</td>\n",
              "      <td>0.72</td>\n",
              "      <td>818000.0</td>\n",
              "      <td>1998</td>\n",
              "      <td>1</td>\n",
              "      <td>0</td>\n",
              "      <td>0</td>\n",
              "      <td>...</td>\n",
              "      <td>0</td>\n",
              "      <td>0</td>\n",
              "      <td>0</td>\n",
              "      <td>0</td>\n",
              "      <td>0</td>\n",
              "      <td>0</td>\n",
              "      <td>0</td>\n",
              "      <td>0</td>\n",
              "      <td>0</td>\n",
              "      <td>0</td>\n",
              "    </tr>\n",
              "    <tr>\n",
              "      <th>1</th>\n",
              "      <td>55000.0</td>\n",
              "      <td>60</td>\n",
              "      <td>3300000.0</td>\n",
              "      <td>1485000.0</td>\n",
              "      <td>0.64</td>\n",
              "      <td>2112000.0</td>\n",
              "      <td>1998</td>\n",
              "      <td>0</td>\n",
              "      <td>0</td>\n",
              "      <td>1</td>\n",
              "      <td>...</td>\n",
              "      <td>0</td>\n",
              "      <td>0</td>\n",
              "      <td>0</td>\n",
              "      <td>0</td>\n",
              "      <td>0</td>\n",
              "      <td>0</td>\n",
              "      <td>0</td>\n",
              "      <td>0</td>\n",
              "      <td>0</td>\n",
              "      <td>0</td>\n",
              "    </tr>\n",
              "    <tr>\n",
              "      <th>2</th>\n",
              "      <td>53000.0</td>\n",
              "      <td>65</td>\n",
              "      <td>3445000.0</td>\n",
              "      <td>1688000.0</td>\n",
              "      <td>0.59</td>\n",
              "      <td>2033000.0</td>\n",
              "      <td>1998</td>\n",
              "      <td>0</td>\n",
              "      <td>1</td>\n",
              "      <td>0</td>\n",
              "      <td>...</td>\n",
              "      <td>0</td>\n",
              "      <td>0</td>\n",
              "      <td>0</td>\n",
              "      <td>0</td>\n",
              "      <td>0</td>\n",
              "      <td>0</td>\n",
              "      <td>0</td>\n",
              "      <td>0</td>\n",
              "      <td>0</td>\n",
              "      <td>0</td>\n",
              "    </tr>\n",
              "    <tr>\n",
              "      <th>3</th>\n",
              "      <td>450000.0</td>\n",
              "      <td>83</td>\n",
              "      <td>37350000.0</td>\n",
              "      <td>12326000.0</td>\n",
              "      <td>0.62</td>\n",
              "      <td>23157000.0</td>\n",
              "      <td>1998</td>\n",
              "      <td>0</td>\n",
              "      <td>0</td>\n",
              "      <td>0</td>\n",
              "      <td>...</td>\n",
              "      <td>0</td>\n",
              "      <td>0</td>\n",
              "      <td>0</td>\n",
              "      <td>0</td>\n",
              "      <td>0</td>\n",
              "      <td>0</td>\n",
              "      <td>0</td>\n",
              "      <td>0</td>\n",
              "      <td>0</td>\n",
              "      <td>0</td>\n",
              "    </tr>\n",
              "    <tr>\n",
              "      <th>4</th>\n",
              "      <td>27000.0</td>\n",
              "      <td>72</td>\n",
              "      <td>1944000.0</td>\n",
              "      <td>1594000.0</td>\n",
              "      <td>0.70</td>\n",
              "      <td>1361000.0</td>\n",
              "      <td>1998</td>\n",
              "      <td>0</td>\n",
              "      <td>0</td>\n",
              "      <td>0</td>\n",
              "      <td>...</td>\n",
              "      <td>0</td>\n",
              "      <td>0</td>\n",
              "      <td>0</td>\n",
              "      <td>0</td>\n",
              "      <td>0</td>\n",
              "      <td>0</td>\n",
              "      <td>0</td>\n",
              "      <td>0</td>\n",
              "      <td>0</td>\n",
              "      <td>0</td>\n",
              "    </tr>\n",
              "  </tbody>\n",
              "</table>\n",
              "<p>5 rows × 51 columns</p>\n",
              "</div>\n",
              "      <button class=\"colab-df-convert\" onclick=\"convertToInteractive('df-6a74e130-2f8c-4849-8c87-5687868da327')\"\n",
              "              title=\"Convert this dataframe to an interactive table.\"\n",
              "              style=\"display:none;\">\n",
              "        \n",
              "  <svg xmlns=\"http://www.w3.org/2000/svg\" height=\"24px\"viewBox=\"0 0 24 24\"\n",
              "       width=\"24px\">\n",
              "    <path d=\"M0 0h24v24H0V0z\" fill=\"none\"/>\n",
              "    <path d=\"M18.56 5.44l.94 2.06.94-2.06 2.06-.94-2.06-.94-.94-2.06-.94 2.06-2.06.94zm-11 1L8.5 8.5l.94-2.06 2.06-.94-2.06-.94L8.5 2.5l-.94 2.06-2.06.94zm10 10l.94 2.06.94-2.06 2.06-.94-2.06-.94-.94-2.06-.94 2.06-2.06.94z\"/><path d=\"M17.41 7.96l-1.37-1.37c-.4-.4-.92-.59-1.43-.59-.52 0-1.04.2-1.43.59L10.3 9.45l-7.72 7.72c-.78.78-.78 2.05 0 2.83L4 21.41c.39.39.9.59 1.41.59.51 0 1.02-.2 1.41-.59l7.78-7.78 2.81-2.81c.8-.78.8-2.07 0-2.86zM5.41 20L4 18.59l7.72-7.72 1.47 1.35L5.41 20z\"/>\n",
              "  </svg>\n",
              "      </button>\n",
              "      \n",
              "  <style>\n",
              "    .colab-df-container {\n",
              "      display:flex;\n",
              "      flex-wrap:wrap;\n",
              "      gap: 12px;\n",
              "    }\n",
              "\n",
              "    .colab-df-convert {\n",
              "      background-color: #E8F0FE;\n",
              "      border: none;\n",
              "      border-radius: 50%;\n",
              "      cursor: pointer;\n",
              "      display: none;\n",
              "      fill: #1967D2;\n",
              "      height: 32px;\n",
              "      padding: 0 0 0 0;\n",
              "      width: 32px;\n",
              "    }\n",
              "\n",
              "    .colab-df-convert:hover {\n",
              "      background-color: #E2EBFA;\n",
              "      box-shadow: 0px 1px 2px rgba(60, 64, 67, 0.3), 0px 1px 3px 1px rgba(60, 64, 67, 0.15);\n",
              "      fill: #174EA6;\n",
              "    }\n",
              "\n",
              "    [theme=dark] .colab-df-convert {\n",
              "      background-color: #3B4455;\n",
              "      fill: #D2E3FC;\n",
              "    }\n",
              "\n",
              "    [theme=dark] .colab-df-convert:hover {\n",
              "      background-color: #434B5C;\n",
              "      box-shadow: 0px 1px 3px 1px rgba(0, 0, 0, 0.15);\n",
              "      filter: drop-shadow(0px 1px 2px rgba(0, 0, 0, 0.3));\n",
              "      fill: #FFFFFF;\n",
              "    }\n",
              "  </style>\n",
              "\n",
              "      <script>\n",
              "        const buttonEl =\n",
              "          document.querySelector('#df-6a74e130-2f8c-4849-8c87-5687868da327 button.colab-df-convert');\n",
              "        buttonEl.style.display =\n",
              "          google.colab.kernel.accessAllowed ? 'block' : 'none';\n",
              "\n",
              "        async function convertToInteractive(key) {\n",
              "          const element = document.querySelector('#df-6a74e130-2f8c-4849-8c87-5687868da327');\n",
              "          const dataTable =\n",
              "            await google.colab.kernel.invokeFunction('convertToInteractive',\n",
              "                                                     [key], {});\n",
              "          if (!dataTable) return;\n",
              "\n",
              "          const docLinkHtml = 'Like what you see? Visit the ' +\n",
              "            '<a target=\"_blank\" href=https://colab.research.google.com/notebooks/data_table.ipynb>data table notebook</a>'\n",
              "            + ' to learn more about interactive tables.';\n",
              "          element.innerHTML = '';\n",
              "          dataTable['output_type'] = 'display_data';\n",
              "          await google.colab.output.renderOutput(dataTable, element);\n",
              "          const docLink = document.createElement('div');\n",
              "          docLink.innerHTML = docLinkHtml;\n",
              "          element.appendChild(docLink);\n",
              "        }\n",
              "      </script>\n",
              "    </div>\n",
              "  </div>\n",
              "  "
            ]
          },
          "metadata": {},
          "execution_count": 151
        }
      ]
    },
    {
      "cell_type": "markdown",
      "source": [
        "Determine the learning data and the target data. Here, I will be examining which factors determine the total produce value ('prodvalue') \n",
        "I will drop the 'prodvalue' (as it will be the target), the year and the priceperlb (as it is likely too closely tied to overall value). "
      ],
      "metadata": {
        "id": "ujy0GYWlMDDM"
      }
    },
    {
      "cell_type": "code",
      "source": [
        "x = honey_df.drop(['prodvalue','year','priceperlb'],axis = 'columns')\n",
        "#x = honey_df[['numcol', 'totalprod', 'stocks']]\n",
        "#x = honey_df[['numcol']]\n",
        "y = honey_df[['prodvalue']]"
      ],
      "metadata": {
        "id": "N0a2V9M1NikQ"
      },
      "execution_count": 152,
      "outputs": []
    },
    {
      "cell_type": "markdown",
      "source": [
        "Split the x and y variables into a training and test set. 80% of the data will be for training, and the trained model will be tested on the remaining 20%"
      ],
      "metadata": {
        "id": "PuZ8o_IKMZhN"
      }
    },
    {
      "cell_type": "code",
      "source": [
        "x_train, x_test, y_train, y_test = train_test_split(x, y, train_size = 0.8, test_size = 0.2, random_state=6)"
      ],
      "metadata": {
        "id": "EUYf4F9xOTsA"
      },
      "execution_count": 153,
      "outputs": []
    },
    {
      "cell_type": "markdown",
      "source": [
        "Print the shape of each variable to confirm that this has been split correctly."
      ],
      "metadata": {
        "id": "U96vtCxVM4-F"
      }
    },
    {
      "cell_type": "code",
      "source": [
        "print(x_train.shape)\n",
        "print(x_test.shape)\n",
        "print(y_train.shape)\n",
        "print(y_test.shape)"
      ],
      "metadata": {
        "colab": {
          "base_uri": "https://localhost:8080/"
        },
        "id": "DSUnebHFOkeA",
        "outputId": "ef45a531-a435-427c-b3ac-5fbbb81d1bad"
      },
      "execution_count": 154,
      "outputs": [
        {
          "output_type": "stream",
          "name": "stdout",
          "text": [
            "(500, 48)\n",
            "(126, 48)\n",
            "(500, 1)\n",
            "(126, 1)\n"
          ]
        }
      ]
    },
    {
      "cell_type": "markdown",
      "source": [
        "Set the model as LinearRegression then fit it to the training data. Set a variable of predictions (y_predict)"
      ],
      "metadata": {
        "id": "wqcCR_nJNCJP"
      }
    },
    {
      "cell_type": "code",
      "source": [
        "mlr = LinearRegression()\n",
        "model = mlr.fit(x_train,y_train)\n",
        "y_predict = mlr.predict(x_test)"
      ],
      "metadata": {
        "id": "yj-20qS7WRAH"
      },
      "execution_count": 155,
      "outputs": []
    },
    {
      "cell_type": "markdown",
      "source": [
        "Create a scatter plot that compares the predicted results for the test set, and the actual results. "
      ],
      "metadata": {
        "id": "17F_CE6POAlP"
      }
    },
    {
      "cell_type": "code",
      "source": [
        "plt.scatter(y_test,y_predict,alpha=0.4)\n",
        "plt.xlabel(\"Produce Price: Actual\")\n",
        "plt.ylabel(\"Produce Price: Predicted\")\n",
        "plt.title(\"Price: Real vs Predicted\")\n",
        "plt.show()"
      ],
      "metadata": {
        "colab": {
          "base_uri": "https://localhost:8080/",
          "height": 295
        },
        "id": "9os_ae8KX3s_",
        "outputId": "b82fa45f-1f3f-483e-de68-0fbfbd4294b5"
      },
      "execution_count": 156,
      "outputs": [
        {
          "output_type": "display_data",
          "data": {
            "text/plain": [
              "<Figure size 432x288 with 1 Axes>"
            ],
            "image/png": "[encoded data removed]"
          },
          "metadata": {
            "needs_background": "light"
          }
        }
      ]
    },
    {
      "cell_type": "markdown",
      "source": [
        "Here we can see that past around 0.7, the difference between actual and predicted produce price becomes larger (and harder to predict)\n",
        "At this point, it's a good idea to measure the coefficiency of the each variable "
      ],
      "metadata": {
        "id": "Gqg18DO2OKw-"
      }
    },
    {
      "cell_type": "code",
      "source": [
        "mlr.coef_"
      ],
      "metadata": {
        "colab": {
          "base_uri": "https://localhost:8080/"
        },
        "id": "YyBakrpWejex",
        "outputId": "a35bab7a-aa86-459c-9746-d4f269e164f9"
      },
      "execution_count": 157,
      "outputs": [
        {
          "output_type": "execute_result",
          "data": {
            "text/plain": [
              "array([[ 1.02821936e+02, -7.48650020e+03,  5.81186060e-01,\n",
              "        -1.61274088e+00,  1.43237555e+06,  7.64777102e+05,\n",
              "         4.91793814e+05, -1.88677231e+07,  1.14627394e+06,\n",
              "        -7.66567148e+06, -2.16014116e+06,  2.38363909e+06,\n",
              "         1.44094201e+06, -3.43721702e+06,  1.90361540e+06,\n",
              "         1.60972916e+06,  1.54800280e+06,  1.59923946e+06,\n",
              "         2.37979503e+05,  1.34828136e+06,  9.74175821e+05,\n",
              "         1.30281501e+06, -3.18797793e+06,  7.59951350e+05,\n",
              "         1.50698970e+06, -1.30484591e+06,  1.42588889e+06,\n",
              "        -3.64624366e+06,  1.30522759e+06,  8.74923640e+05,\n",
              "         1.37743920e+06,  1.45384491e+06,  1.51317638e+06,\n",
              "         1.76889608e+06,  1.35146588e+06, -4.28132418e+05,\n",
              "         1.05257848e+06,  1.73613308e+06,  7.03344790e+05,\n",
              "         1.60870404e+06, -2.65373528e+06,  2.34714386e+05,\n",
              "         1.36207037e+06,  1.77342211e+06, -5.71877512e+05,\n",
              "         2.79070587e+06,  1.51170510e+06, -3.71256396e+05]])"
            ]
          },
          "metadata": {},
          "execution_count": 157
        }
      ]
    },
    {
      "cell_type": "markdown",
      "source": [
        "Hard to determine without a visual, however num_col, total_prod and stocks seem to have a stronger coefficency with prod_value. \n",
        "A number of scatter plots will give a better idea. "
      ],
      "metadata": {
        "id": "tFrBgTNcQsYq"
      }
    },
    {
      "cell_type": "code",
      "source": [
        "plt.scatter(honey_df[['numcol']], honey_df[['prodvalue']], alpha=0.4)\n",
        "\n",
        "plt.show()\n",
        "plt.clf()"
      ],
      "metadata": {
        "colab": {
          "base_uri": "https://localhost:8080/",
          "height": 294
        },
        "id": "4E3QPVkUf3Ak",
        "outputId": "62e7cdb5-3e3d-48f2-9a33-50d9e8ee14b1"
      },
      "execution_count": 158,
      "outputs": [
        {
          "output_type": "display_data",
          "data": {
            "text/plain": [
              "<Figure size 432x288 with 1 Axes>"
            ],
            "image/png": "[encoded data removed]"
          },
          "metadata": {
            "needs_background": "light"
          }
        },
        {
          "output_type": "display_data",
          "data": {
            "text/plain": [
              "<Figure size 432x288 with 0 Axes>"
            ]
          },
          "metadata": {}
        }
      ]
    },
    {
      "cell_type": "code",
      "source": [
        "plt.scatter(honey_df[['yieldpercol']], honey_df[['prodvalue']], alpha=0.4)\n",
        "\n",
        "plt.show()\n",
        "plt.clf()"
      ],
      "metadata": {
        "colab": {
          "base_uri": "https://localhost:8080/",
          "height": 294
        },
        "id": "4gacNXNDgUNB",
        "outputId": "807b5b07-dac0-457d-fd4a-d0156b91dd30"
      },
      "execution_count": 159,
      "outputs": [
        {
          "output_type": "display_data",
          "data": {
            "text/plain": [
              "<Figure size 432x288 with 1 Axes>"
            ],
            "image/png": "[encoded data removed]"
          },
          "metadata": {
            "needs_background": "light"
          }
        },
        {
          "output_type": "display_data",
          "data": {
            "text/plain": [
              "<Figure size 432x288 with 0 Axes>"
            ]
          },
          "metadata": {}
        }
      ]
    },
    {
      "cell_type": "code",
      "source": [
        "plt.scatter(honey_df[['totalprod']], honey_df[['prodvalue']], alpha=0.4)\n",
        "\n",
        "plt.show()\n",
        "plt.clf()"
      ],
      "metadata": {
        "colab": {
          "base_uri": "https://localhost:8080/",
          "height": 306
        },
        "id": "pYy6rpwkgg--",
        "outputId": "402d94f0-4dc9-49d0-9868-9d89fb3b1249"
      },
      "execution_count": 160,
      "outputs": [
        {
          "output_type": "display_data",
          "data": {
            "text/plain": [
              "<Figure size 432x288 with 1 Axes>"
            ],
            "image/png": "[encoded data removed]"
          },
          "metadata": {
            "needs_background": "light"
          }
        },
        {
          "output_type": "display_data",
          "data": {
            "text/plain": [
              "<Figure size 432x288 with 0 Axes>"
            ]
          },
          "metadata": {}
        }
      ]
    },
    {
      "cell_type": "code",
      "source": [
        "plt.scatter(honey_df[['stocks']], honey_df[['prodvalue']], alpha=0.4)\n",
        "\n",
        "plt.show()\n",
        "plt.clf()"
      ],
      "metadata": {
        "colab": {
          "base_uri": "https://localhost:8080/",
          "height": 306
        },
        "id": "O7Npeuj8go33",
        "outputId": "01d99dc5-eadc-4b17-ff4b-11808bf6bd7b"
      },
      "execution_count": 161,
      "outputs": [
        {
          "output_type": "display_data",
          "data": {
            "text/plain": [
              "<Figure size 432x288 with 1 Axes>"
            ],
            "image/png": "[encoded data removed]"
          },
          "metadata": {
            "needs_background": "light"
          }
        },
        {
          "output_type": "display_data",
          "data": {
            "text/plain": [
              "<Figure size 432x288 with 0 Axes>"
            ]
          },
          "metadata": {}
        }
      ]
    },
    {
      "cell_type": "markdown",
      "source": [
        "Total produced and number of colonies is strongly correlated with produce value. However, we can score the current model with the features currently used, and use it as base line for potential improvement. "
      ],
      "metadata": {
        "id": "Nc0nZIe5hDKS"
      }
    },
    {
      "cell_type": "code",
      "source": [
        "print(\"Train score: \")\n",
        "print(model.score(x_train, y_train))\n",
        "\n",
        "print(\"Test score:\")\n",
        "print(model.score(x_test, y_test))\n",
        "residuals = y_predict - y_test\n",
        " \n",
        "plt.scatter(y_predict, residuals, alpha=0.4)\n",
        "plt.title('Residual Analysis')\n",
        " \n",
        "plt.show()"
      ],
      "metadata": {
        "colab": {
          "base_uri": "https://localhost:8080/",
          "height": 363
        },
        "id": "HkO5Yl3pp_2c",
        "outputId": "73bd8557-96a6-45bd-ee93-cb631bb506f8"
      },
      "execution_count": 162,
      "outputs": [
        {
          "output_type": "stream",
          "name": "stdout",
          "text": [
            "Train score: \n",
            "0.9114190331997539\n",
            "Test score:\n",
            "0.9437540384873646\n"
          ]
        },
        {
          "output_type": "display_data",
          "data": {
            "text/plain": [
              "<Figure size 432x288 with 1 Axes>"
            ],
            "image/png": "[encoded data removed]"
          },
          "metadata": {
            "needs_background": "light"
          }
        }
      ]
    },
    {
      "cell_type": "markdown",
      "source": [
        "By looking at the residuals (the absolute differences between training and test set results) we can see that we can predict with the greatest accuracy if the values concerned are between 0.1 and 0.3. \n",
        "The insight we gain is that some feature tweaking may help, perhaps removing some of the less correlating features like yieldpercol. \n"
      ],
      "metadata": {
        "id": "0l8lD3cCSMx5"
      }
    },
    {
      "cell_type": "markdown",
      "source": [
        "**SUMMARY**\n",
        "\n",
        "This is a supervised learning algorithm that seeks to predict the honey produce value based on a number of comtributing factors. \n",
        "\n",
        "While not being a forecasting tool as such, it can determine whether the value is fair and in line with the historically determining factors of production e.g bee colony sizes, number of colonies in each state, produce per colony. \n",
        "\n",
        "Similar algorithms are used for processes such as predicting property prices based on multiple factors. Where property price is concerned, you should be able to price new properties accurately and in line with the current market. \n"
      ],
      "metadata": {
        "id": "EexFn-XPc90-"
      }
    }
  ]
}
